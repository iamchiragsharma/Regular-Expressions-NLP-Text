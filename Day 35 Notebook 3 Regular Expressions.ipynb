{
 "cells": [
  {
   "cell_type": "markdown",
   "metadata": {},
   "source": [
    "# Regular Expressions"
   ]
  },
  {
   "cell_type": "code",
   "execution_count": null,
   "metadata": {},
   "outputs": [],
   "source": [
    "import re"
   ]
  },
  {
   "cell_type": "markdown",
   "metadata": {},
   "source": [
    "A regular expressions is a sequence of characters that define a search pattern.\n",
    "\n",
    "Where they are used?\n",
    "Regular Expressions have wide use cases:\n",
    "* Text Preprocessing more specifically string preprocessing.\n",
    "* Extracting text on basis of some pattern, finding and replacing some words that fullfill a pattern match for example locate all words that start with 'a' and replace them with word cat.\n",
    "* Password Pattern Matching\n",
    "* Data Validation\n",
    "\n",
    "These are some I have applied myself and you can as well."
   ]
  },
  {
   "cell_type": "markdown",
   "metadata": {},
   "source": [
    "This might become boring very quick so we will keep on doing examples to keep on learning about regular expressions.\n",
    "\n",
    "Regular Expression Pattern matching has two parts to it:\n",
    "1. Right Pattern : It's about figuring out what we really want to match.\n",
    "2. Right ```re``` function : It's related to position. Whether we want to match pattern at beginning or anywhere. In case we want to split and substitute we have to change our re function as well.\n",
    "\n",
    "**Problem : You are given two texts and you have to find whether they start with word corona or not.**"
   ]
  },
  {
   "cell_type": "code",
   "execution_count": 2,
   "metadata": {},
   "outputs": [],
   "source": [
    "text1 = \"corona epidemic has taken world by storm.\"\n",
    "text2 = \"offices shut down due to covid-19.\""
   ]
  },
  {
   "cell_type": "markdown",
   "metadata": {},
   "source": [
    "So now we have to figure out two things what pattern to use and what function to use.\n",
    "1. We have to match word corona only so corona is our pattern string.\n",
    "2. For Function we will select ```re.match``` because of the reason we need to find if string **starts** with pattern corona or not.\n",
    "3. ```re.match``` takes 3 inputs -> pattern to match, text which needs to be searched, flags. We will talk about flags later."
   ]
  },
  {
   "cell_type": "code",
   "execution_count": 3,
   "metadata": {},
   "outputs": [
    {
     "name": "stdout",
     "output_type": "stream",
     "text": [
      "<re.Match object; span=(0, 6), match='corona'>\n"
     ]
    }
   ],
   "source": [
    "pattern = r'corona'\n",
    "result_text1 = re.match(pattern,text1)\n",
    "print(result_text1)"
   ]
  },
  {
   "cell_type": "code",
   "execution_count": 4,
   "metadata": {},
   "outputs": [
    {
     "name": "stdout",
     "output_type": "stream",
     "text": [
      "None\n"
     ]
    }
   ],
   "source": [
    "result_text2 = re.match(pattern,text2)\n",
    "print(result_text2)"
   ]
  },
  {
   "cell_type": "markdown",
   "metadata": {},
   "source": [
    "* If pattern matches to the string a match object is returned otherwise None object is returned.\n",
    "* In case of a match as in ```result_text1``` match object is returned which has three properties:\n",
    "    * ```.span()```: returns a tuple contaning start and end positions of the match.\n",
    "    * ```.string``` : returns the string passed into the function\n",
    "    * ```.group()``` : returns the part of string where was a match"
   ]
  },
  {
   "cell_type": "code",
   "execution_count": 5,
   "metadata": {},
   "outputs": [
    {
     "name": "stdout",
     "output_type": "stream",
     "text": [
      "Span of result_text1:  (0, 6)\n",
      "String passed to result_text1:  corona epidemic has taken world by storm.\n",
      "Groups in result_text1:  corona\n"
     ]
    }
   ],
   "source": [
    "print(\"Span of result_text1: \", result_text1.span())\n",
    "print(\"String passed to result_text1: \", result_text1.string)\n",
    "print(\"Groups in result_text1: \", result_text1.group())"
   ]
  },
  {
   "cell_type": "markdown",
   "metadata": {},
   "source": [
    "## Issue with ```re.match```:\n",
    "* It's an excellent function for matching strings only in the beginning.\n",
    "\n",
    "In case we want a match anywhere in the string we use ```re.search```. It works same as ```re.match``` but allows us to match anywhere in the string. Returns a **Match object** and if no match is found returns **None**."
   ]
  },
  {
   "cell_type": "code",
   "execution_count": 6,
   "metadata": {},
   "outputs": [],
   "source": [
    "text1 = \"corona epidemic has taken world by storm.\"\n",
    "text2 = \"offices shut down due to covid-19.\"\n",
    "text3 = \"covid-19 is another name for coronavirus\"\n",
    "pattern = r'corona'"
   ]
  },
  {
   "cell_type": "code",
   "execution_count": 7,
   "metadata": {},
   "outputs": [
    {
     "name": "stdout",
     "output_type": "stream",
     "text": [
      "<re.Match object; span=(0, 6), match='corona'>\n"
     ]
    }
   ],
   "source": [
    "result_text1 = re.search(pattern,text1)\n",
    "print(result_text1)"
   ]
  },
  {
   "cell_type": "code",
   "execution_count": 8,
   "metadata": {},
   "outputs": [
    {
     "name": "stdout",
     "output_type": "stream",
     "text": [
      "None\n"
     ]
    }
   ],
   "source": [
    "result_text2 = re.search(pattern,text2)\n",
    "print(result_text2)"
   ]
  },
  {
   "cell_type": "code",
   "execution_count": 9,
   "metadata": {},
   "outputs": [
    {
     "name": "stdout",
     "output_type": "stream",
     "text": [
      "<re.Match object; span=(29, 35), match='corona'>\n"
     ]
    }
   ],
   "source": [
    "result_text3 = re.search(pattern,text3)\n",
    "print(result_text3)"
   ]
  },
  {
   "cell_type": "markdown",
   "metadata": {},
   "source": [
    "## Limitations with ```re.match``` and ```re.search```\n",
    "```re.match``` can match only in the beginning and ```re.search``` can match anywhere but only first match is returned. The reason behind is that ```re.search``` was designed to find whether a pattern exists in the string or not. In case we want all of the matches to be returned we use ```re.findall```. In fact ```re.findall``` is by default for pattern matching since by various identifiers and conditioning it can behave as ```re.match``` & ```re.search```."
   ]
  },
  {
   "cell_type": "code",
   "execution_count": 10,
   "metadata": {},
   "outputs": [
    {
     "name": "stdout",
     "output_type": "stream",
     "text": [
      "<re.Match object; span=(0, 6), match='corona'>\n"
     ]
    }
   ],
   "source": [
    "text4 = \"coronavirus patients can spread coronavirus to others as well.\"\n",
    "result_text4 = re.search(pattern,text4)\n",
    "print(result_text4)\n",
    "#Only first instance is matched"
   ]
  },
  {
   "cell_type": "markdown",
   "metadata": {},
   "source": [
    "```re.findall``` matches all occurences."
   ]
  },
  {
   "cell_type": "code",
   "execution_count": 11,
   "metadata": {},
   "outputs": [
    {
     "name": "stdout",
     "output_type": "stream",
     "text": [
      "['corona', 'corona']\n"
     ]
    }
   ],
   "source": [
    "result_text4_findall = re.findall(pattern,text4)\n",
    "print(result_text4_findall)\n",
    "#Finds all occurences"
   ]
  },
  {
   "cell_type": "markdown",
   "metadata": {},
   "source": [
    "## What if we want to replace places where pattern matches with a string of our choice?\n",
    "\n",
    "Let's say we want to replace all occurences of **coronavirus** with COVID-19. For this purpose we use ```re.sub```\n",
    "```re.sub(pattern,replacement,text,count)``` : pattern is what we are trying to match, replacement is what to replace pattern with and text is what we are searching pattern in. Set **Count**  in case of substituting limited number of occurences. By default it substitutes all occurences."
   ]
  },
  {
   "cell_type": "code",
   "execution_count": 12,
   "metadata": {},
   "outputs": [
    {
     "name": "stdout",
     "output_type": "stream",
     "text": [
      "coronavirus is causing international shutdowns. Neil Ferguson's report stated that coronavirus matches SARS.\n",
      "COVID-19 is causing international shutdowns. Neil Ferguson's report stated that COVID-19 matches SARS.\n"
     ]
    }
   ],
   "source": [
    "text = \"coronavirus is causing international shutdowns. Neil Ferguson's report stated that coronavirus matches SARS.\"\n",
    "pattern = r'coronavirus'\n",
    "new_text = re.sub(pattern,'COVID-19',text)\n",
    "print(text)\n",
    "print(new_text)"
   ]
  },
  {
   "cell_type": "code",
   "execution_count": 13,
   "metadata": {},
   "outputs": [
    {
     "name": "stdout",
     "output_type": "stream",
     "text": [
      "coronavirus is causing international shutdowns. Neil Ferguson's report stated that coronavirus matches SARS.\n",
      "COVID-19 is causing international shutdowns. Neil Ferguson's report stated that coronavirus matches SARS.\n"
     ]
    },
    {
     "data": {
      "text/plain": [
       "'Replaces only 1 match'"
      ]
     },
     "execution_count": 13,
     "metadata": {},
     "output_type": "execute_result"
    }
   ],
   "source": [
    "text = \"coronavirus is causing international shutdowns. Neil Ferguson's report stated that coronavirus matches SARS.\"\n",
    "pattern = r'coronavirus'\n",
    "new_text = re.sub(pattern,'COVID-19',text,count=1)\n",
    "print(text)\n",
    "print(new_text)\n",
    "\"\"\"Replaces only 1 match\"\"\""
   ]
  },
  {
   "cell_type": "markdown",
   "metadata": {},
   "source": [
    "## Splitting Text where pattern matches\n",
    "\n",
    "```re.split(pattern,string,maxsplit,flags)```\n",
    "\n",
    "pattern and string are usual parameters. maxsplit means how many split at max we want to do, by default it means all. flags will be discussed quiet shortly."
   ]
  },
  {
   "cell_type": "code",
   "execution_count": 14,
   "metadata": {},
   "outputs": [
    {
     "name": "stdout",
     "output_type": "stream",
     "text": [
      "['COVID-19 is ', 'virus, as of 24 March ', 'virus has causes more than 400,000 cases.']\n"
     ]
    }
   ],
   "source": [
    "text = 'COVID-19 is coronavirus, as of 24 March coronavirus has causes more than 400,000 cases.'\n",
    "pattern = r'corona'\n",
    "new_strings = re.split(pattern,text)\n",
    "print(new_strings)"
   ]
  },
  {
   "cell_type": "markdown",
   "metadata": {},
   "source": [
    "**string is split everywhere the pattern is matched. Since the above string has two corona occurences it just split it at two places and hence resulting in three parts. A list of splits is returned.**"
   ]
  },
  {
   "cell_type": "markdown",
   "metadata": {},
   "source": [
    "## Level - II "
   ]
  },
  {
   "cell_type": "markdown",
   "metadata": {},
   "source": [
    "### Ordinary & Meta Characters in Regular Expression"
   ]
  },
  {
   "cell_type": "markdown",
   "metadata": {},
   "source": [
    "* Ordinary Characters : a,b,corona,123 these are ordinary characters with no special meaning\n",
    "* Special Characters or Meta Characters : ```. ^ $ * + ? | { } \\ [ ] ( ) ``` : They imply special meanings.\n",
    "\n",
    "### ```.``` : Match Any Character Except New Line. "
   ]
  },
  {
   "cell_type": "code",
   "execution_count": 15,
   "metadata": {},
   "outputs": [
    {
     "name": "stdout",
     "output_type": "stream",
     "text": [
      "['2', '0', '2', '0', ' ', 'i', 's', ' ', 'i', 'n', ' ', 'l', 'o', 'c', 'k', 'd', 'o', 'w', 'n', '.']\n"
     ]
    }
   ],
   "source": [
    "#1.1\n",
    "text = '2020 is in lockdown.'\n",
    "pattern = r'.'\n",
    "matches = re.findall(pattern,text)\n",
    "print(matches)"
   ]
  },
  {
   "cell_type": "markdown",
   "metadata": {},
   "source": [
    "You can see that ```.``` doesn't matches only fullstop in the end of text because it's a special characters which implies anything except newline character"
   ]
  },
  {
   "cell_type": "code",
   "execution_count": 16,
   "metadata": {},
   "outputs": [
    {
     "name": "stdout",
     "output_type": "stream",
     "text": [
      "['2', '0', '2', '0', ' ', 'i', 's', ' ', 'i', 'n', ' ', 'l', 'o', 'c', 'k', 'd', 'o', 'w', 'n', 'D', 'o', 'n', \"'\", 't', ' ', 'h', 'o', 'a', 'r', 'd']\n"
     ]
    }
   ],
   "source": [
    "#1.2\n",
    "text = \"2020 is in lockdown\\nDon't hoard\"\n",
    "pattrn = r'.'\n",
    "matches = re.findall(pattern,text)\n",
    "print(matches) #See it doesn't match new line character"
   ]
  },
  {
   "cell_type": "markdown",
   "metadata": {},
   "source": [
    "### ```*``` : Causes RE to match 0 or more repititons of preceding RE.\n",
    "### ```+``` : Causes RE to match 1 or more repititions of preceding RE."
   ]
  },
  {
   "cell_type": "markdown",
   "metadata": {},
   "source": [
    "**Problem : Let's say we published a report and due to some intern's mistakes(Let's blame it on intern for now) spelling for corona was published incorrectly at multiple places.***\n",
    "\n",
    "We have to find them for it now. His incorrect mistakes were very specific. He wrote wrong spellings but maintained same characters and their relative positions. \n",
    "\n",
    "Meaning ```Coronna,Cooroonna,Corrona``` are the mistakes he made since these mistakes and ```Corona``` has ```c,o,r,o,n,a``` characters in the same relative order (doesn't matter how many occurences they have). \n",
    "\n",
    "So, ```Coryna,Carano,Karano,Coroana``` cannot be his mistakes since they don't have same characters as ```Corona``` and they don't have same relative positons (Coroana has a before n).\n",
    "\n",
    "Find out how many mistakes he made\n"
   ]
  },
  {
   "cell_type": "code",
   "execution_count": 17,
   "metadata": {},
   "outputs": [],
   "source": [
    "text = 'Corona cases grew rapidly in Wuhan. Coronna spread to other countries as well. Cooroonna has wrecked havoc in Italy. \\\n",
    "Corrona made India lockdown their whole country for 21 days. Coryna is spreading in USA as well. Carano is also in France now \\\n",
    "Korona is spreading in Korean and Japan as well, Coroana has no vaccine right now.'"
   ]
  },
  {
   "cell_type": "code",
   "execution_count": 18,
   "metadata": {},
   "outputs": [
    {
     "name": "stdout",
     "output_type": "stream",
     "text": [
      "['Corona', 'Coronna', 'Cooroonna', 'Corrona']\n"
     ]
    }
   ],
   "source": [
    "#Let's form the pattern we are looking for.\n",
    "pattern = r'Corona' #is what we are looking for in the end as per the relative positions.\n",
    "#but we are allowing multiple occurences of characters while in their relative position so we need to tweak the pattern.\n",
    "\n",
    "pattern = r'C+o+r+o+n+a+' #This mean multiple occurences of C o r o n a alphabets are allowed but not if they destroy\n",
    "#relative positons. This translates into atleast 1 occurence of C  + atleast 1 occurence of o ......same upto a\n",
    "matches = re.findall(pattern,text)\n",
    "print(matches)"
   ]
  },
  {
   "cell_type": "code",
   "execution_count": 19,
   "metadata": {},
   "outputs": [],
   "source": [
    "### Find the whole paragraph from the word hard."
   ]
  },
  {
   "cell_type": "code",
   "execution_count": 20,
   "metadata": {},
   "outputs": [
    {
     "name": "stdout",
     "output_type": "stream",
     "text": [
      "[\"hard play hard. This is a phrase that's used a lot by people who love instagram\"]\n"
     ]
    }
   ],
   "source": [
    "text = \"Work hard play hard. This is a phrase that's used a lot by people who love instagram\"\n",
    "pattern = r'hard.*' #hard word needs to be found so we add it to pattern and .* means everything after that(except newline character)\n",
    "matches = re.findall(pattern,text)\n",
    "print(matches)"
   ]
  },
  {
   "cell_type": "markdown",
   "metadata": {},
   "source": [
    "### ```^``` : Matches the start of string\n",
    "### ```$``` : Matches the end of the string"
   ]
  },
  {
   "cell_type": "markdown",
   "metadata": {},
   "source": [
    "Check whether the text down below starts with the word ```Even```."
   ]
  },
  {
   "cell_type": "code",
   "execution_count": 21,
   "metadata": {},
   "outputs": [
    {
     "name": "stdout",
     "output_type": "stream",
     "text": [
      "[]\n"
     ]
    }
   ],
   "source": [
    "text = \"Tom Hanks got corona. Times are rough\"\n",
    "pattern = r'^Even'\n",
    "matches = re.findall(pattern,text)\n",
    "print(matches) #No match empty list"
   ]
  },
  {
   "cell_type": "markdown",
   "metadata": {},
   "source": [
    "Check whether the text given ends with rough or not"
   ]
  },
  {
   "cell_type": "code",
   "execution_count": 22,
   "metadata": {},
   "outputs": [
    {
     "name": "stdout",
     "output_type": "stream",
     "text": [
      "['rough']\n"
     ]
    }
   ],
   "source": [
    "text = \"Even Tom Hanks got corona. Times are rough\"\n",
    "pattern = r'rough$'\n",
    "matches = re.findall(pattern,text)\n",
    "print(matches) #returns rough hence it ends with rough"
   ]
  },
  {
   "cell_type": "markdown",
   "metadata": {},
   "source": [
    "We want to return the last sentence in case text ends with word rough. So for a sentence we will pick out everything after the last full stop before word ```rough```."
   ]
  },
  {
   "cell_type": "code",
   "execution_count": 23,
   "metadata": {},
   "outputs": [
    {
     "name": "stdout",
     "output_type": "stream",
     "text": [
      "['Even Tom Hanks got corona. Times are rough']\n"
     ]
    }
   ],
   "source": [
    "text = \"Even Tom Hanks got corona. Times are rough\"\n",
    "pattern = r'.*rough$'\n",
    "matches = re.findall(pattern,text)\n",
    "print(matches)"
   ]
  },
  {
   "cell_type": "markdown",
   "metadata": {},
   "source": [
    "This has a issue it returns everything before rough because . is a special character and it's not going to behave as a fullstop. In case we want it to behave like fullstop we have to backslash it. Backslash nullfies the behaviour of special characters"
   ]
  },
  {
   "cell_type": "code",
   "execution_count": 24,
   "metadata": {},
   "outputs": [
    {
     "name": "stdout",
     "output_type": "stream",
     "text": [
      "['. Times are rough']\n"
     ]
    }
   ],
   "source": [
    "text = \"Even Tom Hanks got corona. Times are rough\"\n",
    "pattern = r'\\..*rough$' #\\. means fullstop(.) without special behaviour and after that .* means all characters\n",
    "#rough$ means the pattern must end with rough.\n",
    "#Translation : Start with . and continue all characters until you reach end of the string but you must have rough in the end.\n",
    "matches = re.findall(pattern,text)\n",
    "print(matches)"
   ]
  },
  {
   "cell_type": "markdown",
   "metadata": {},
   "source": [
    "Following string doesn't match with the pattern because it doesn't end with ```rough``` it ends with ```rougher```"
   ]
  },
  {
   "cell_type": "code",
   "execution_count": 25,
   "metadata": {},
   "outputs": [
    {
     "name": "stdout",
     "output_type": "stream",
     "text": [
      "[]\n"
     ]
    }
   ],
   "source": [
    "text = \"Even Tom Hanks got corona. Times are rougher\"\n",
    "pattern = r'\\..*rough$'\n",
    "matches = re.findall(pattern,text)\n",
    "print(matches)"
   ]
  },
  {
   "cell_type": "markdown",
   "metadata": {},
   "source": [
    "Let's say we work for a company and we have to check passwords whether they meet the criteria or not?\n",
    "\n",
    "Criteria:\n",
    "* Password must start with \"comp\".\n",
    "* Password must have #$ anywhere in the string but after comp and also the password mustnot end with it as well.\n",
    "* Passowrd must end with atleast 1 occurence of b"
   ]
  },
  {
   "cell_type": "code",
   "execution_count": 26,
   "metadata": {},
   "outputs": [],
   "source": [
    "password1 = 'comp#$bbb'\n",
    "password2 = 'comp#$aaabb'\n",
    "password3 = 'compaaa#$aaabbb'"
   ]
  },
  {
   "cell_type": "code",
   "execution_count": 27,
   "metadata": {},
   "outputs": [],
   "source": [
    "pattern = r'^comp' #begins with comp\n",
    "pattern = r'^comp#\\$' #has #$ in it \\ since $ is a special character\n",
    "pattern = r'^comp#\\$b+' #has atleast one b that's why we are using +. If zero number of b was acceptable we would have used *"
   ]
  },
  {
   "cell_type": "code",
   "execution_count": 28,
   "metadata": {},
   "outputs": [
    {
     "name": "stdout",
     "output_type": "stream",
     "text": [
      "<re.Match object; span=(0, 9), match='comp#$bbb'>\n"
     ]
    }
   ],
   "source": [
    "matches_password1 = re.match(pattern,password1)\n",
    "print(matches_password1) #This one matches"
   ]
  },
  {
   "cell_type": "code",
   "execution_count": 29,
   "metadata": {},
   "outputs": [
    {
     "name": "stdout",
     "output_type": "stream",
     "text": [
      "None\n"
     ]
    }
   ],
   "source": [
    "matches_password2 = re.match(pattern,password2)\n",
    "print(matches_password2)"
   ]
  },
  {
   "cell_type": "code",
   "execution_count": 30,
   "metadata": {},
   "outputs": [
    {
     "name": "stdout",
     "output_type": "stream",
     "text": [
      "None\n"
     ]
    }
   ],
   "source": [
    "matches_password3 = re.match(pattern,password3)\n",
    "print(matches_password3)"
   ]
  },
  {
   "cell_type": "markdown",
   "metadata": {},
   "source": [
    "```password2```  and ```password3``` doesn't match the pattern? because we didn't accout for the fact anything can come in the string before and after #$."
   ]
  },
  {
   "cell_type": "code",
   "execution_count": 31,
   "metadata": {},
   "outputs": [
    {
     "name": "stdout",
     "output_type": "stream",
     "text": [
      "<re.Match object; span=(0, 9), match='comp#$bbb'>\n"
     ]
    }
   ],
   "source": [
    "pattern = r'^comp#\\$.*b+'\n",
    "matches_password1 = re.match(pattern,password1)\n",
    "print(matches_password1)"
   ]
  },
  {
   "cell_type": "code",
   "execution_count": 32,
   "metadata": {},
   "outputs": [
    {
     "name": "stdout",
     "output_type": "stream",
     "text": [
      "<re.Match object; span=(0, 11), match='comp#$aaabb'>\n"
     ]
    }
   ],
   "source": [
    "pattern = r'^comp#\\$.*b+'\n",
    "matches_password2 = re.match(pattern,password2)\n",
    "print(matches_password2)"
   ]
  },
  {
   "cell_type": "code",
   "execution_count": 33,
   "metadata": {},
   "outputs": [
    {
     "name": "stdout",
     "output_type": "stream",
     "text": [
      "<re.Match object; span=(0, 15), match='compaaa#$aaabbb'>\n"
     ]
    }
   ],
   "source": [
    "pattern = r'^comp.*#\\$.*b+'\n",
    "matches_password3 = re.match(pattern,password3)\n",
    "print(matches_password3)"
   ]
  },
  {
   "cell_type": "markdown",
   "metadata": {},
   "source": [
    "### ```{ }``` for exact the specified number of occurences\n",
    "\n",
    "For the above problem let's say we have new criteria:\n",
    "* Password must start with \"comp\".\n",
    "* Password must have #$ anywhere in the string but after comp and also the password mustnot end with it as well.\n",
    "* Passowrd must end with 3 to 5 occurences of b, both inclusive"
   ]
  },
  {
   "cell_type": "code",
   "execution_count": 34,
   "metadata": {},
   "outputs": [],
   "source": [
    "password1 = 'comp#$bbb'\n",
    "password2 = 'comp#$aaabb'\n",
    "password3 = 'compaaa#$aaabbb'\n",
    "password4 = 'comp12#$aaabbbbb'"
   ]
  },
  {
   "cell_type": "code",
   "execution_count": 35,
   "metadata": {},
   "outputs": [],
   "source": [
    "pattern = r'^comp.*#\\$.*b{3,5}' #pattern = r'^comp.*#\\$.*b+' removed + and installed { } in it"
   ]
  },
  {
   "cell_type": "code",
   "execution_count": 36,
   "metadata": {},
   "outputs": [
    {
     "name": "stdout",
     "output_type": "stream",
     "text": [
      "<re.Match object; span=(0, 9), match='comp#$bbb'>\n"
     ]
    }
   ],
   "source": [
    "matches_password1 = re.match(pattern,password1)\n",
    "print(matches_password1)"
   ]
  },
  {
   "cell_type": "code",
   "execution_count": 37,
   "metadata": {},
   "outputs": [
    {
     "name": "stdout",
     "output_type": "stream",
     "text": [
      "None\n"
     ]
    }
   ],
   "source": [
    "matches_password2 = re.match(pattern,password2)\n",
    "print(matches_password2) # doesn't match because it has only 2 b in the end"
   ]
  },
  {
   "cell_type": "code",
   "execution_count": 38,
   "metadata": {},
   "outputs": [
    {
     "name": "stdout",
     "output_type": "stream",
     "text": [
      "<re.Match object; span=(0, 15), match='compaaa#$aaabbb'>\n"
     ]
    }
   ],
   "source": [
    "matches_password3 = re.match(pattern,password3)\n",
    "print(matches_password3) "
   ]
  },
  {
   "cell_type": "code",
   "execution_count": 39,
   "metadata": {},
   "outputs": [
    {
     "name": "stdout",
     "output_type": "stream",
     "text": [
      "<re.Match object; span=(0, 16), match='comp12#$aaabbbbb'>\n"
     ]
    }
   ],
   "source": [
    "matches_password4 = re.match(pattern,password4)\n",
    "print(matches_password4) "
   ]
  },
  {
   "cell_type": "markdown",
   "metadata": {},
   "source": [
    "In case we wanted only 5 repeated occurence of b ```pattern = r'^comp.*#\\$.*b{5}'```"
   ]
  },
  {
   "cell_type": "markdown",
   "metadata": {},
   "source": [
    "### ```|``` : A|B either expression A or expression B\n",
    "Let' say we have to select the whole text if it starts with ```corona``` or ```covid-19``` otherwise don't select it."
   ]
  },
  {
   "cell_type": "code",
   "execution_count": 40,
   "metadata": {},
   "outputs": [],
   "source": [
    "text1 = 'coronavirus came from the bats.'\n",
    "text2 = 'covid-19 and sars both came from bats.'\n",
    "text3 = 'ebola also came from bats.'"
   ]
  },
  {
   "cell_type": "code",
   "execution_count": 41,
   "metadata": {},
   "outputs": [],
   "source": [
    "pattern = r'corona.*|covid-19.*'"
   ]
  },
  {
   "cell_type": "code",
   "execution_count": 42,
   "metadata": {},
   "outputs": [
    {
     "name": "stdout",
     "output_type": "stream",
     "text": [
      "<re.Match object; span=(0, 31), match='coronavirus came from the bats.'>\n"
     ]
    }
   ],
   "source": [
    "match_text1 = re.match(pattern,text1)\n",
    "print(match_text1)"
   ]
  },
  {
   "cell_type": "code",
   "execution_count": 43,
   "metadata": {},
   "outputs": [
    {
     "name": "stdout",
     "output_type": "stream",
     "text": [
      "<re.Match object; span=(0, 38), match='covid-19 and sars both came from bats.'>\n"
     ]
    }
   ],
   "source": [
    "match_text2 = re.match(pattern,text2)\n",
    "print(match_text2)"
   ]
  },
  {
   "cell_type": "code",
   "execution_count": 44,
   "metadata": {},
   "outputs": [
    {
     "name": "stdout",
     "output_type": "stream",
     "text": [
      "None\n"
     ]
    }
   ],
   "source": [
    "match_text3 = re.match(pattern,text3)\n",
    "print(match_text3)"
   ]
  }
 ],
 "metadata": {
  "kernelspec": {
   "display_name": "Python 3",
   "language": "python",
   "name": "python3"
  },
  "language_info": {
   "codemirror_mode": {
    "name": "ipython",
    "version": 3
   },
   "file_extension": ".py",
   "mimetype": "text/x-python",
   "name": "python",
   "nbconvert_exporter": "python",
   "pygments_lexer": "ipython3",
   "version": "3.7.5"
  }
 },
 "nbformat": 4,
 "nbformat_minor": 4
}
